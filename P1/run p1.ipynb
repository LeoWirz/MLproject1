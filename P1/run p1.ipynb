{
 "cells": [
  {
   "cell_type": "code",
   "execution_count": 343,
   "metadata": {},
   "outputs": [
    {
     "name": "stdout",
     "output_type": "stream",
     "text": [
      "The autoreload extension is already loaded. To reload it, use:\n",
      "  %reload_ext autoreload\n"
     ]
    }
   ],
   "source": [
    "import pandas as pd\n",
    "import numpy as np\n",
    "import glob\n",
    "pd.options.mode.chained_assignment = None  # default='warn', Mutes warnings when copying a slice from a DataFrame.\n",
    "#Import all functions from the Labs and helpers\n",
    "#from helpers import *\n",
    "#from plots import *\n",
    "%load_ext autoreload\n",
    "%autoreload 2\n",
    "\n",
    "import seaborn as sns\n",
    "\n",
    "import matplotlib.pyplot as plt\n",
    "%matplotlib inline \n",
    "\n",
    "from proj1_helpers import *\n",
    "from ML_func import *\n",
    "from plots import *"
   ]
  },
  {
   "cell_type": "markdown",
   "metadata": {},
   "source": [
    "Import data"
   ]
  },
  {
   "cell_type": "code",
   "execution_count": 326,
   "metadata": {
    "collapsed": true
   },
   "outputs": [],
   "source": [
    "# Load the training data into feature matrix, class labels, and event ids:\n",
    "y, X, ids = load_csv_data('train.csv')\n",
    "ytest, Xtest, idstest = load_csv_data('test.csv')"
   ]
  },
  {
   "cell_type": "code",
   "execution_count": 327,
   "metadata": {},
   "outputs": [],
   "source": [
    "#pd.DataFrame(X)\n",
    "#pd.DataFrame(Xtest)"
   ]
  },
  {
   "cell_type": "markdown",
   "metadata": {},
   "source": [
    "### Data Exploration"
   ]
  },
  {
   "cell_type": "code",
   "execution_count": 328,
   "metadata": {
    "collapsed": true
   },
   "outputs": [],
   "source": [
    "#trainSet = pd.read_csv(\"train.csv\")\n"
   ]
  },
  {
   "cell_type": "code",
   "execution_count": null,
   "metadata": {
    "collapsed": true
   },
   "outputs": [],
   "source": []
  },
  {
   "cell_type": "code",
   "execution_count": 329,
   "metadata": {
    "collapsed": true
   },
   "outputs": [],
   "source": [
    "#T0 = trainSet.loc[trainSet['PRI_jet_num'] == 0]"
   ]
  },
  {
   "cell_type": "code",
   "execution_count": 330,
   "metadata": {
    "collapsed": true
   },
   "outputs": [],
   "source": [
    "#T1 = trainSet.loc[trainSet['PRI_jet_num'] == 1]\n"
   ]
  },
  {
   "cell_type": "code",
   "execution_count": 331,
   "metadata": {
    "collapsed": true
   },
   "outputs": [],
   "source": [
    "#T2 = trainSet.loc[trainSet['PRI_jet_num'] == 2]"
   ]
  },
  {
   "cell_type": "code",
   "execution_count": 332,
   "metadata": {
    "collapsed": true
   },
   "outputs": [],
   "source": [
    "#T3 = trainSet.loc[trainSet['PRI_jet_num'] == 3]\n"
   ]
  },
  {
   "cell_type": "markdown",
   "metadata": {},
   "source": [
    "### Clean the Data\n",
    "\n",
    "- yi and Xi will be the data where we just replace the missing value in the first column by the median\n",
    "- yi_r and Xi_r will be the data where we just remove the entire row if a value was missing in the first column"
   ]
  },
  {
   "cell_type": "code",
   "execution_count": 344,
   "metadata": {
    "collapsed": true
   },
   "outputs": [],
   "source": [
    "# Split the data according to the label of the feature 22\n",
    "\n",
    "def findIndLabel(A, label, column):\n",
    "    N = A.shape[0]\n",
    "    ind = []\n",
    "    \n",
    "    for i in range(N):\n",
    "        if A[i,22] == label:\n",
    "            ind.append(i)\n",
    "            \n",
    "    return ind\n",
    "\n",
    "ind_lab0 = findIndLabel(X, 0, 22)\n",
    "ind_lab1 = findIndLabel(X, 1, 22)\n",
    "ind_lab2 = findIndLabel(X, 2, 22)\n",
    "ind_lab3 = findIndLabel(X, 3, 22)\n",
    "\n",
    "ind_lab0_test = findIndLabel(Xtest, 0, 22)\n",
    "ind_lab1_test = findIndLabel(Xtest, 1, 22)\n",
    "ind_lab2_test = findIndLabel(Xtest, 2, 22)\n",
    "ind_lab3_test = findIndLabel(Xtest, 3, 22)\n",
    "    \n",
    "\n",
    "# ------------ TRAINING ----------------------------------\n",
    "y0, y0_r, ids0 = y[np.where(X[:,22]==0)], y[np.where(X[:,22]==0)], ids[ind_lab0]\n",
    "y1, y1_r, ids1 = y[np.where(X[:,22]==1)], y[np.where(X[:,22]==1)], ids[ind_lab1]\n",
    "y2, y2_r, ids2 = y[np.where(X[:,22]==2)], y[np.where(X[:,22]==2)], ids[ind_lab2]\n",
    "y3, y3_r, ids3 = y[np.where(X[:,22]==3)], y[np.where(X[:,22]==3)], ids[ind_lab3]\n",
    "\n",
    "X0, X0_r = X[np.where(X[:,22]==0)], X[np.where(X[:,22]==0)]\n",
    "X1, X1_r = X[np.where(X[:,22]==1)], X[np.where(X[:,22]==1)]\n",
    "X2, X2_r = X[np.where(X[:,22]==2)], X[np.where(X[:,22]==2)]\n",
    "X3, X3_r = X[np.where(X[:,22]==3)], X[np.where(X[:,22]==3)]\n",
    "\n",
    "# ------------ TESTING ------------------------------------------------------------\n",
    "y0test, y0test_r, ids0test = ytest[np.where(Xtest[:,22]==0)], ytest[np.where(Xtest[:,22]==0)], idstest[ind_lab0_test]\n",
    "y1test, y1test_r, ids1test = ytest[np.where(Xtest[:,22]==1)], ytest[np.where(Xtest[:,22]==1)], idstest[ind_lab1_test]\n",
    "y2test, y2test_r, ids2test = ytest[np.where(Xtest[:,22]==2)], ytest[np.where(Xtest[:,22]==2)], idstest[ind_lab2_test]\n",
    "y3test, y3test_r, ids3test = ytest[np.where(Xtest[:,22]==3)], ytest[np.where(Xtest[:,22]==3)], idstest[ind_lab3_test]\n",
    "\n",
    "\n",
    "X0test, X0test_r = Xtest[np.where(Xtest[:,22]==0)], Xtest[np.where(Xtest[:,22]==0)]\n",
    "X1test, X1test_r = Xtest[np.where(Xtest[:,22]==1)], Xtest[np.where(Xtest[:,22]==1)]\n",
    "X2test, X2test_r = Xtest[np.where(Xtest[:,22]==2)], Xtest[np.where(Xtest[:,22]==2)]\n",
    "X3test, X3test_r = Xtest[np.where(Xtest[:,22]==3)], Xtest[np.where(Xtest[:,22]==3)]"
   ]
  },
  {
   "cell_type": "code",
   "execution_count": 345,
   "metadata": {
    "collapsed": true
   },
   "outputs": [],
   "source": [
    "# Replace the missing values -999 in the first column by the median\n",
    "\n",
    "# ------------ TRAINING ----------------------------------\n",
    "X0[np.where(X0[:,0]==-999),0] = np.median(X0[X0[:,0]!=-999,0])\n",
    "X1[np.where(X1[:,0]==-999),0] = np.median(X1[X1[:,0]!=-999,0])\n",
    "X2[np.where(X2[:,0]==-999),0] = np.median(X2[X2[:,0]!=-999,0])\n",
    "X3[np.where(X3[:,0]==-999),0] = np.median(X3[X3[:,0]!=-999,0])\n",
    "\n",
    "# ------------ TESTING ------------------------------------------------------------\n",
    "X0test[np.where(X0test[:,0]==-999),0] = np.median(X0test[X0test[:,0]!=-999,0])\n",
    "X1test[np.where(X1test[:,0]==-999),0] = np.median(X1test[X1test[:,0]!=-999,0])\n",
    "X2test[np.where(X2test[:,0]==-999),0] = np.median(X2test[X2test[:,0]!=-999,0])\n",
    "X3test[np.where(X3test[:,0]==-999),0] = np.median(X3test[X3test[:,0]!=-999,0])\n",
    "\n",
    "# Remove the rows where there are -999 in the first column\n",
    "def findInd(A):\n",
    "    n_f = A.shape[0]\n",
    "    ind = []\n",
    "    for i in range(n_f):\n",
    "        if A[i,0]==-999 :\n",
    "            ind.append(i)\n",
    "    \n",
    "    return ind\n",
    "\n",
    "# ------------ TRAINING ----------------------------------\n",
    "ind_0 = findInd(X0_r)\n",
    "ind_1 = findInd(X1_r)\n",
    "ind_2 = findInd(X2_r)\n",
    "ind_3 = findInd(X3_r)\n",
    "\n",
    "y0_r, X0_r, ids0_r = np.delete(y0_r, ind_0, 0), np.delete(X0_r, ind_0, 0), ids0[ind_0]\n",
    "y1_r, X1_r, ids1_r = np.delete(y1_r, ind_1, 0), np.delete(X1_r, ind_1, 0), ids1[ind_1]\n",
    "y2_r, X2_r, ids2_r = np.delete(y2_r, ind_2, 0), np.delete(X2_r, ind_2, 0), ids2[ind_2]\n",
    "y3_r, X3_r, ids3_r = np.delete(y3_r, ind_3, 0), np.delete(X3_r, ind_3, 0), ids3[ind_3]\n",
    "\n",
    "\n",
    "# ------------ TESTING ------------------------------------------------------------\n",
    "ind_0_test = findInd(X0test_r)\n",
    "ind_1_test = findInd(X1test_r)\n",
    "ind_2_test = findInd(X2test_r)\n",
    "ind_3_test = findInd(X3test_r)\n",
    "\n",
    "y0test_r, X0test_r, ids0test_r = np.delete(y0test_r, ind_0_test, 0), np.delete(X0test_r, ind_0_test, 0), ids0test[ind_0_test]\n",
    "y1test_r, X1test_r, ids1test_r = np.delete(y1test_r, ind_1_test, 0), np.delete(X1test_r, ind_1_test, 0), ids1test[ind_1_test]\n",
    "y2test_r, X2test_r, ids2test_r = np.delete(y2test_r, ind_2_test, 0), np.delete(X2test_r, ind_2_test, 0), ids2test[ind_2_test]\n",
    "y3test_r, X3test_r, ids3test_r = np.delete(y3test_r, ind_3_test, 0), np.delete(X3test_r, ind_3_test, 0), ids3test[ind_3_test]"
   ]
  },
  {
   "cell_type": "code",
   "execution_count": 346,
   "metadata": {
    "collapsed": true
   },
   "outputs": [],
   "source": [
    "# Given a matrix, check if there are -999 values\n",
    "def checkMissingValue(A):\n",
    "    n_f = A.shape[1]\n",
    "    flag = False\n",
    "    \n",
    "    for i in range(n_f):\n",
    "        #print(\"{}:{}\".format(i,len(np.where(A[:,i]==-999)[0])))\n",
    "        if len(np.where(A[:,i]==-999)[0]) is not 0:\n",
    "            flag = True\n",
    "            \n",
    "    return flag\n",
    "\n",
    "def deleteMissingValues(A):\n",
    "    n_f = A.shape[1]\n",
    "    ind = []\n",
    "    for i in range(n_f):\n",
    "        inner_length = len(A[:,i])\n",
    "        if (i == 22) or (len(np.where(A[:,i]==-999)[0]) != 0) or (len(np.where(A[:,i]==0)[0]) == inner_length) :\n",
    "            ind.append(i)\n",
    "        \n",
    "    return np.delete(A,ind,1) "
   ]
  },
  {
   "cell_type": "code",
   "execution_count": 347,
   "metadata": {
    "collapsed": true
   },
   "outputs": [],
   "source": [
    "# Remove completely the columns with -999\n",
    "\n",
    "# ------------ TRAINING ----------------------------------\n",
    "X0, X0_r = deleteMissingValues(X0), deleteMissingValues(X0_r)\n",
    "X1, X1_r = deleteMissingValues(X1), deleteMissingValues(X1_r)\n",
    "X2, X2_r = deleteMissingValues(X2), deleteMissingValues(X2_r)\n",
    "X3, X3_r = deleteMissingValues(X3), deleteMissingValues(X3_r)\n",
    "\n",
    "# ------------ TESTING ----------------------------------\n",
    "X0test, X0test_r = deleteMissingValues(X0test), deleteMissingValues(X0test_r)\n",
    "X1test, X1test_r = deleteMissingValues(X1test), deleteMissingValues(X1test_r)\n",
    "X2test, X2test_r = deleteMissingValues(X2test), deleteMissingValues(X2test_r)\n",
    "X3test, X3test_r = deleteMissingValues(X3test), deleteMissingValues(X3test_r)"
   ]
  },
  {
   "cell_type": "code",
   "execution_count": 348,
   "metadata": {},
   "outputs": [],
   "source": [
    "# Sanity Check\n",
    "#pd.DataFrame(X0)\n",
    "#pd.DataFrame(X0_r)\n",
    "#pd.DataFrame(X1)\n",
    "#pd.DataFrame(X1_r)\n",
    "#pd.DataFrame(X2)\n",
    "#pd.DataFrame(X2_r)\n",
    "#pd.DataFrame(X3)\n",
    "#pd.DataFrame(X3_r)\n",
    "\n",
    "#pd.DataFrame(y0)\n",
    "#pd.DataFrame(ids0)\n",
    "#pd.DataFrame(y0_r)\n",
    "#pd.DataFrame(y1)\n",
    "#pd.DataFrame(y1_r)\n",
    "#pd.DataFrame(y2_r)\n",
    "#pd.DataFrame(y2_r)\n",
    "#pd.DataFrame(y3)\n",
    "#pd.DataFrame(y3_r)\n",
    "#pd.DataFrame(ids0)"
   ]
  },
  {
   "cell_type": "code",
   "execution_count": 349,
   "metadata": {},
   "outputs": [],
   "source": [
    "# Group the data\n",
    "\n",
    "# ------------ TRAINING ----------------------------------\n",
    "train1 = [y0, X0, ids0]\n",
    "train2 = [y1, X1, ids1]\n",
    "train3 = [y2, X2, ids2]\n",
    "train4 = [y3, X3, ids3]\n",
    "train5 = [y0_r, X0_r, ids0_r]\n",
    "train6 = [y1_r, X1_r, ids1_r]\n",
    "train7 = [y2_r, X2_r, ids2_r]\n",
    "train8 = [y3_r, X3_r, ids3_r]\n",
    "\n",
    "models1 = [train1, train2, train3, train4]\n",
    "models2 = [train5, train6, train7, train8]\n",
    "\n",
    "\n",
    "# ------------ TESTING ----------------------------------\n",
    "train1_test = [y0test, X0test, ids0test]\n",
    "train2_test = [y1test, X1test, ids1test]\n",
    "train3_test = [y2test, X2test, ids2test]\n",
    "train4_test = [y3test, X3test, ids3test]\n",
    "train5_test = [y0test_r, X0test_r, ids0test_r]\n",
    "train6_test = [y1test_r, X1test_r, ids1test_r]\n",
    "train7_test = [y2test_r, X2test_r, ids2test_r]\n",
    "train8_test = [y3test_r, X3test_r, ids3test_r]\n",
    "\n",
    "models_test1 = [train1_test, train2_test, train3_test, train4_test]\n",
    "models_test2 = [train5_test, train6_test, train7_test, train8_test]"
   ]
  },
  {
   "cell_type": "markdown",
   "metadata": {},
   "source": [
    "### Build polynomial X with cross term, log(|x| + 1) and sqrt(x)\n",
    "\n",
    "- Attention ça prend une chiée de temps !!!"
   ]
  },
  {
   "cell_type": "code",
   "execution_count": 350,
   "metadata": {},
   "outputs": [
    {
     "data": {
      "text/plain": [
       "array([[ 1.        ,  1.41421356,  1.73205081],\n",
       "       [ 2.        ,  2.23606798,  2.44948974]])"
      ]
     },
     "execution_count": 350,
     "metadata": {},
     "output_type": "execute_result"
    }
   ],
   "source": [
    "test = np.array([[1,2,3],[4,5,6]])\n",
    "np.sqrt(test)"
   ]
  },
  {
   "cell_type": "code",
   "execution_count": 351,
   "metadata": {},
   "outputs": [
    {
     "name": "stdout",
     "output_type": "stream",
     "text": [
      "Build for training set\n",
      "0\n",
      "1\n",
      "2\n",
      "3\n",
      "Build for testing set\n",
      "0\n",
      "1\n",
      "2\n",
      "3\n"
     ]
    }
   ],
   "source": [
    "# Build Poly\n",
    "degree = 12\n",
    "\n",
    "print(\"Build for training set\")\n",
    "for i in range(len(models1)):\n",
    "    print(i)\n",
    "    \n",
    "    models1[i][1] = build_log_sqrt_comb_poly(models1[i][1], degree)\n",
    "\n",
    "print(\"Build for testing set\")\n",
    "for i in range(len(models_test1)):\n",
    "    print(i)\n",
    "    \n",
    "    models_test1[i][1] = build_log_sqrt_comb_poly(models_test1[i][1], degree)"
   ]
  },
  {
   "cell_type": "markdown",
   "metadata": {},
   "source": [
    "### Build polynomial X with cross term and with log(|x| + 1)\n",
    "\n",
    "- Attention ça prend une chiée de temps !!!"
   ]
  },
  {
   "cell_type": "code",
   "execution_count": 292,
   "metadata": {},
   "outputs": [
    {
     "name": "stdout",
     "output_type": "stream",
     "text": [
      "Build for training set\n",
      "0\n",
      "1\n",
      "2\n",
      "3\n",
      "Build for testing set\n",
      "0\n",
      "1\n",
      "2\n",
      "3\n"
     ]
    }
   ],
   "source": [
    "# Build Poly\n",
    "degree = 12\n",
    "\n",
    "print(\"Build for training set\")\n",
    "for i in range(len(models1)):\n",
    "    print(i)\n",
    "    \n",
    "    models1[i][1] = build_log_comb_poly(models1[i][1], degree)\n",
    "\n",
    "print(\"Build for testing set\")\n",
    "for i in range(len(models_test1)):\n",
    "    print(i)\n",
    "    \n",
    "    models_test1[i][1] = build_log_comb_poly(models_test1[i][1], degree)"
   ]
  },
  {
   "cell_type": "markdown",
   "metadata": {},
   "source": [
    "### Build polynomial X with log(|x| + 1)"
   ]
  },
  {
   "cell_type": "code",
   "execution_count": 261,
   "metadata": {},
   "outputs": [
    {
     "name": "stdout",
     "output_type": "stream",
     "text": [
      "Build for training set\n",
      "0\n",
      "1\n",
      "2\n",
      "3\n",
      "Build for testing set\n",
      "0\n",
      "1\n",
      "2\n",
      "3\n"
     ]
    }
   ],
   "source": [
    "# Build Poly\n",
    "degree = 10\n",
    "\n",
    "print(\"Build for training set\")\n",
    "for i in range(len(models1)):\n",
    "    print(i)\n",
    "    \n",
    "    models1[i][1] = build_log_poly(models1[i][1], degree)\n",
    "\n",
    "print(\"Build for testing set\")\n",
    "for i in range(len(models_test1)):\n",
    "    print(i)\n",
    "    \n",
    "    models_test1[i][1] = build_log_poly(models_test1[i][1], degree)"
   ]
  },
  {
   "cell_type": "markdown",
   "metadata": {},
   "source": [
    "### Standardization"
   ]
  },
  {
   "cell_type": "code",
   "execution_count": 352,
   "metadata": {},
   "outputs": [
    {
     "name": "stdout",
     "output_type": "stream",
     "text": [
      "Standardize for training set\n",
      "0\n",
      "1\n",
      "2\n",
      "3\n",
      "Standardize for testing set\n",
      "0\n",
      "1\n",
      "2\n",
      "3\n"
     ]
    }
   ],
   "source": [
    "# Standardize the matrix of experience\n",
    "print(\"Standardize for training set\")\n",
    "for i in range(len(models1)):\n",
    "    print(i)\n",
    "    \n",
    "    n = models1[i][1].shape[0]\n",
    "    models1[i][1] = np.delete(models1[i][1],0,1)\n",
    "    models1[i][1] = standardize(models1[i][1])\n",
    "    add = np.ones(n)\n",
    "    models1[i][1] = np.column_stack((add, models1[i][1]))\n",
    "    \n",
    "print(\"Standardize for testing set\")   \n",
    "for i in range(len(models_test1)):\n",
    "    print(i)\n",
    "    \n",
    "    n = models_test1[i][1].shape[0]\n",
    "    models_test1[i][1] = np.delete(models_test1[i][1],0,1)\n",
    "    models_test1[i][1] = standardize(models_test1[i][1])\n",
    "    add = np.ones(n)\n",
    "    models_test1[i][1] = np.column_stack((add, models_test1[i][1]))"
   ]
  },
  {
   "cell_type": "markdown",
   "metadata": {},
   "source": [
    "### Bias-Variance Analysis and K-Fold Cross Validation\n",
    "\n",
    "- Attention ça prend une chiée de temps !"
   ]
  },
  {
   "cell_type": "code",
   "execution_count": 300,
   "metadata": {},
   "outputs": [
    {
     "name": "stdout",
     "output_type": "stream",
     "text": [
      "seed number : 0\n",
      "degree 1\n"
     ]
    },
    {
     "ename": "KeyboardInterrupt",
     "evalue": "",
     "output_type": "error",
     "traceback": [
      "\u001b[0;31m---------------------------------------------------------------------------\u001b[0m",
      "\u001b[0;31mKeyboardInterrupt\u001b[0m                         Traceback (most recent call last)",
      "\u001b[0;32m<ipython-input-300-fdcf75b63f6e>\u001b[0m in \u001b[0;36m<module>\u001b[0;34m()\u001b[0m\n\u001b[1;32m     32\u001b[0m     \u001b[0mbias_variance_decomposition_visualization\u001b[0m\u001b[0;34m(\u001b[0m\u001b[0mdegrees\u001b[0m\u001b[0;34m,\u001b[0m \u001b[0mrmse_tr\u001b[0m\u001b[0;34m,\u001b[0m \u001b[0mrmse_te\u001b[0m\u001b[0;34m)\u001b[0m\u001b[0;34m\u001b[0m\u001b[0m\n\u001b[1;32m     33\u001b[0m \u001b[0;34m\u001b[0m\u001b[0m\n\u001b[0;32m---> 34\u001b[0;31m \u001b[0mbias_variance_demo\u001b[0m\u001b[0;34m(\u001b[0m\u001b[0mtrain1\u001b[0m\u001b[0;34m[\u001b[0m\u001b[0;36m0\u001b[0m\u001b[0;34m]\u001b[0m\u001b[0;34m,\u001b[0m \u001b[0mtrain1\u001b[0m\u001b[0;34m[\u001b[0m\u001b[0;36m1\u001b[0m\u001b[0;34m]\u001b[0m\u001b[0;34m,\u001b[0m \u001b[0;36m15\u001b[0m\u001b[0;34m,\u001b[0m \u001b[0;36m0.01\u001b[0m\u001b[0;34m)\u001b[0m\u001b[0;34m\u001b[0m\u001b[0m\n\u001b[0m",
      "\u001b[0;32m<ipython-input-300-fdcf75b63f6e>\u001b[0m in \u001b[0;36mbias_variance_demo\u001b[0;34m(y, x, d, lambda_, ratio)\u001b[0m\n\u001b[1;32m     22\u001b[0m             \u001b[0mprint\u001b[0m\u001b[0;34m(\u001b[0m\u001b[0;34m\"degree {}\"\u001b[0m\u001b[0;34m.\u001b[0m\u001b[0mformat\u001b[0m\u001b[0;34m(\u001b[0m\u001b[0mdegree\u001b[0m\u001b[0;34m)\u001b[0m\u001b[0;34m)\u001b[0m\u001b[0;34m\u001b[0m\u001b[0m\n\u001b[1;32m     23\u001b[0m             \u001b[0;31m# form polynomial data\u001b[0m\u001b[0;34m\u001b[0m\u001b[0;34m\u001b[0m\u001b[0m\n\u001b[0;32m---> 24\u001b[0;31m             \u001b[0mX_tr\u001b[0m \u001b[0;34m=\u001b[0m \u001b[0mbuild_log_comb_poly\u001b[0m\u001b[0;34m(\u001b[0m\u001b[0mx_tr\u001b[0m\u001b[0;34m,\u001b[0m \u001b[0mdegree\u001b[0m\u001b[0;34m)\u001b[0m\u001b[0;34m\u001b[0m\u001b[0m\n\u001b[0m\u001b[1;32m     25\u001b[0m             \u001b[0mX_te\u001b[0m \u001b[0;34m=\u001b[0m \u001b[0mbuild_log_comb_poly\u001b[0m\u001b[0;34m(\u001b[0m\u001b[0mx_te\u001b[0m\u001b[0;34m,\u001b[0m \u001b[0mdegree\u001b[0m\u001b[0;34m)\u001b[0m\u001b[0;34m\u001b[0m\u001b[0m\n\u001b[1;32m     26\u001b[0m             \u001b[0;31m# least square\u001b[0m\u001b[0;34m\u001b[0m\u001b[0;34m\u001b[0m\u001b[0m\n",
      "\u001b[0;32m/Users/Matteo/Google Drive/EPFL/Master/Master 3/Machine Learning/Projets/P1/P1/ML_func.py\u001b[0m in \u001b[0;36mbuild_log_comb_poly\u001b[0;34m(x, d)\u001b[0m\n\u001b[1;32m     84\u001b[0m \u001b[0;32mdef\u001b[0m \u001b[0mbuild_log_comb_poly\u001b[0m\u001b[0;34m(\u001b[0m\u001b[0mx\u001b[0m\u001b[0;34m,\u001b[0m\u001b[0md\u001b[0m\u001b[0;34m)\u001b[0m\u001b[0;34m:\u001b[0m\u001b[0;34m\u001b[0m\u001b[0m\n\u001b[1;32m     85\u001b[0m \u001b[0;34m\u001b[0m\u001b[0m\n\u001b[0;32m---> 86\u001b[0;31m     \u001b[0mX\u001b[0m \u001b[0;34m=\u001b[0m \u001b[0mbuild_comb_poly\u001b[0m\u001b[0;34m(\u001b[0m\u001b[0mx\u001b[0m\u001b[0;34m,\u001b[0m\u001b[0md\u001b[0m\u001b[0;34m)\u001b[0m\u001b[0;34m\u001b[0m\u001b[0m\n\u001b[0m\u001b[1;32m     87\u001b[0m     \u001b[0madd\u001b[0m \u001b[0;34m=\u001b[0m \u001b[0mnp\u001b[0m\u001b[0;34m.\u001b[0m\u001b[0mlog\u001b[0m\u001b[0;34m(\u001b[0m\u001b[0mnp\u001b[0m\u001b[0;34m.\u001b[0m\u001b[0mabsolute\u001b[0m\u001b[0;34m(\u001b[0m\u001b[0mx\u001b[0m\u001b[0;34m)\u001b[0m \u001b[0;34m+\u001b[0m \u001b[0;36m1\u001b[0m\u001b[0;34m)\u001b[0m\u001b[0;34m\u001b[0m\u001b[0m\n\u001b[1;32m     88\u001b[0m     \u001b[0;32mreturn\u001b[0m \u001b[0mnp\u001b[0m\u001b[0;34m.\u001b[0m\u001b[0mconcatenate\u001b[0m\u001b[0;34m(\u001b[0m\u001b[0;34m(\u001b[0m\u001b[0mX\u001b[0m\u001b[0;34m,\u001b[0m\u001b[0madd\u001b[0m\u001b[0;34m)\u001b[0m\u001b[0;34m,\u001b[0m\u001b[0;36m1\u001b[0m\u001b[0;34m)\u001b[0m\u001b[0;34m\u001b[0m\u001b[0m\n",
      "\u001b[0;32m/Users/Matteo/Google Drive/EPFL/Master/Master 3/Machine Learning/Projets/P1/P1/ML_func.py\u001b[0m in \u001b[0;36mbuild_comb_poly\u001b[0;34m(x, d)\u001b[0m\n\u001b[1;32m     77\u001b[0m                 \u001b[0madd\u001b[0m \u001b[0;34m=\u001b[0m \u001b[0mx\u001b[0m\u001b[0;34m[\u001b[0m\u001b[0;34m:\u001b[0m\u001b[0;34m,\u001b[0m\u001b[0mi\u001b[0m\u001b[0;34m]\u001b[0m \u001b[0;34m*\u001b[0m \u001b[0mx\u001b[0m\u001b[0;34m[\u001b[0m\u001b[0;34m:\u001b[0m\u001b[0;34m,\u001b[0m\u001b[0mj\u001b[0m\u001b[0;34m]\u001b[0m\u001b[0;34m\u001b[0m\u001b[0m\n\u001b[1;32m     78\u001b[0m                 \u001b[0md_\u001b[0m \u001b[0;34m=\u001b[0m \u001b[0mX\u001b[0m\u001b[0;34m.\u001b[0m\u001b[0mshape\u001b[0m\u001b[0;34m[\u001b[0m\u001b[0;36m1\u001b[0m\u001b[0;34m]\u001b[0m\u001b[0;34m\u001b[0m\u001b[0m\n\u001b[0;32m---> 79\u001b[0;31m                 \u001b[0mX\u001b[0m \u001b[0;34m=\u001b[0m \u001b[0mnp\u001b[0m\u001b[0;34m.\u001b[0m\u001b[0minsert\u001b[0m\u001b[0;34m(\u001b[0m\u001b[0mX\u001b[0m\u001b[0;34m,\u001b[0m \u001b[0md_\u001b[0m\u001b[0;34m,\u001b[0m \u001b[0madd\u001b[0m\u001b[0;34m,\u001b[0m\u001b[0;36m1\u001b[0m\u001b[0;34m)\u001b[0m\u001b[0;34m\u001b[0m\u001b[0m\n\u001b[0m\u001b[1;32m     80\u001b[0m \u001b[0;34m\u001b[0m\u001b[0m\n\u001b[1;32m     81\u001b[0m     \u001b[0;32mreturn\u001b[0m \u001b[0mX\u001b[0m\u001b[0;34m\u001b[0m\u001b[0m\n",
      "\u001b[0;32m/anaconda/lib/python3.6/site-packages/numpy/lib/function_base.py\u001b[0m in \u001b[0;36minsert\u001b[0;34m(arr, obj, values, axis)\u001b[0m\n\u001b[1;32m   4906\u001b[0m         \u001b[0mnew\u001b[0m \u001b[0;34m=\u001b[0m \u001b[0mempty\u001b[0m\u001b[0;34m(\u001b[0m\u001b[0mnewshape\u001b[0m\u001b[0;34m,\u001b[0m \u001b[0marr\u001b[0m\u001b[0;34m.\u001b[0m\u001b[0mdtype\u001b[0m\u001b[0;34m,\u001b[0m \u001b[0marrorder\u001b[0m\u001b[0;34m)\u001b[0m\u001b[0;34m\u001b[0m\u001b[0m\n\u001b[1;32m   4907\u001b[0m         \u001b[0mslobj\u001b[0m\u001b[0;34m[\u001b[0m\u001b[0maxis\u001b[0m\u001b[0;34m]\u001b[0m \u001b[0;34m=\u001b[0m \u001b[0mslice\u001b[0m\u001b[0;34m(\u001b[0m\u001b[0;32mNone\u001b[0m\u001b[0;34m,\u001b[0m \u001b[0mindex\u001b[0m\u001b[0;34m)\u001b[0m\u001b[0;34m\u001b[0m\u001b[0m\n\u001b[0;32m-> 4908\u001b[0;31m         \u001b[0mnew\u001b[0m\u001b[0;34m[\u001b[0m\u001b[0mslobj\u001b[0m\u001b[0;34m]\u001b[0m \u001b[0;34m=\u001b[0m \u001b[0marr\u001b[0m\u001b[0;34m[\u001b[0m\u001b[0mslobj\u001b[0m\u001b[0;34m]\u001b[0m\u001b[0;34m\u001b[0m\u001b[0m\n\u001b[0m\u001b[1;32m   4909\u001b[0m         \u001b[0mslobj\u001b[0m\u001b[0;34m[\u001b[0m\u001b[0maxis\u001b[0m\u001b[0;34m]\u001b[0m \u001b[0;34m=\u001b[0m \u001b[0mslice\u001b[0m\u001b[0;34m(\u001b[0m\u001b[0mindex\u001b[0m\u001b[0;34m,\u001b[0m \u001b[0mindex\u001b[0m\u001b[0;34m+\u001b[0m\u001b[0mnumnew\u001b[0m\u001b[0;34m)\u001b[0m\u001b[0;34m\u001b[0m\u001b[0m\n\u001b[1;32m   4910\u001b[0m         \u001b[0mnew\u001b[0m\u001b[0;34m[\u001b[0m\u001b[0mslobj\u001b[0m\u001b[0;34m]\u001b[0m \u001b[0;34m=\u001b[0m \u001b[0mvalues\u001b[0m\u001b[0;34m\u001b[0m\u001b[0m\n",
      "\u001b[0;31mKeyboardInterrupt\u001b[0m: "
     ]
    }
   ],
   "source": [
    "def bias_variance_demo(y, x, d, lambda_, ratio = 0.005):\n",
    "    \n",
    "    # define parameters\n",
    "    seeds = range(5)\n",
    "    num_data = 10000\n",
    "    ratio_train = ratio\n",
    "    degrees = range(1, d+1)\n",
    "    \n",
    "    # define list to store the variable\n",
    "    rmse_tr = np.empty((len(seeds), len(degrees)))\n",
    "    rmse_te = np.empty((len(seeds), len(degrees)))\n",
    "    \n",
    "    for index_seed, seed in enumerate(seeds):\n",
    "        print(\"seed number : {}\".format(index_seed))\n",
    "        np.random.seed(seed)\n",
    "        \n",
    "        x_tr, x_te, y_tr, y_te = split_data(x, y, ratio_train, seed)\n",
    "\n",
    "        \n",
    "        # Loop through the different degrees for the polynomial and find the error\n",
    "        for index_degree, degree in enumerate(degrees):\n",
    "            print(\"degree {}\".format(degree))\n",
    "            # form polynomial data\n",
    "            X_tr = build_log_comb_poly(x_tr, degree)\n",
    "            X_te = build_log_comb_poly(x_te, degree)\n",
    "            # least square\n",
    "            w = ridge_regression(y_tr, X_tr, lambda_)\n",
    "            # calculate the rmse for train and test\n",
    "            rmse_tr[index_seed, index_degree] = np.sqrt(2 * calculate_mse(y_tr, X_tr, w))\n",
    "            rmse_te[index_seed, index_degree] = np.sqrt(2 * calculate_mse(y_te, X_te, w))\n",
    "   \n",
    "    bias_variance_decomposition_visualization(degrees, rmse_tr, rmse_te)\n",
    "    \n",
    "bias_variance_demo(train1[0], train1[1], 15, 0.01)"
   ]
  },
  {
   "cell_type": "code",
   "execution_count": 39,
   "metadata": {},
   "outputs": [
    {
     "name": "stdout",
     "output_type": "stream",
     "text": [
      "lambda: 0.0001\n",
      "0\n",
      "1\n",
      "lambda: 0.001\n",
      "0\n",
      "1\n",
      "lambda: 0.01\n",
      "0\n",
      "1\n",
      "lambda: 0.1\n",
      "0\n",
      "1\n",
      "lambda: 1.0\n",
      "0\n",
      "1\n"
     ]
    },
    {
     "data": {
      "image/png": "[encoded data removed]",
      "text/plain": [
       "<matplotlib.figure.Figure at 0x11fe8c400>"
      ]
     },
     "metadata": {},
     "output_type": "display_data"
    }
   ],
   "source": [
    "def cross_validation_demo(y, x, deg, k):\n",
    "    seed = 1\n",
    "    degree = deg\n",
    "    k_fold = k\n",
    "    lambdas = np.logspace(-4, 0, 5)\n",
    "    # split data in k fold\n",
    "    k_indices = build_k_indices(y, k_fold, seed)\n",
    "    # define lists to store the loss of training data and test data\n",
    "    rmse_tr = []\n",
    "    rmse_te = []\n",
    "    \n",
    "    # Do the K-Fold cross validation:\n",
    "    \n",
    "    # Loop through the lambas\n",
    "    for lambda_ in lambdas:\n",
    "        print(\"lambda: {}\".format(lambda_))\n",
    "        # Create temporary arrays to hold the RMSE\n",
    "        rmse_tr_tmp = []\n",
    "        rmse_te_tmp = []\n",
    "        # Do the K-Fold cross val\n",
    "        for k in range(k_fold):\n",
    "            print(k)\n",
    "            loss_tr, loss_te = cross_validation(y, x, k_indices, k_fold, k, lambda_, degree)\n",
    "            rmse_tr_tmp.append(loss_tr)\n",
    "            rmse_te_tmp.append(loss_te)\n",
    "        rmse_tr.append(np.mean(rmse_tr_tmp))\n",
    "        rmse_te.append(np.mean(rmse_te_tmp))\n",
    "    \n",
    "    # ***************************************************    \n",
    "    cross_validation_visualization(lambdas, rmse_tr, rmse_te)\n",
    "\n",
    "cross_validation_demo(train1[0], train1[1], 10, 2)"
   ]
  },
  {
   "cell_type": "code",
   "execution_count": 320,
   "metadata": {},
   "outputs": [],
   "source": [
    "# Compute regression\n",
    "W = []\n",
    "for i in range(len(models1)):\n",
    "    w = least_squares(models1[i][0], models1[i][1])\n",
    "    W.append(w)"
   ]
  },
  {
   "cell_type": "code",
   "execution_count": 353,
   "metadata": {
    "collapsed": true
   },
   "outputs": [],
   "source": [
    "# Compute ridge regression\n",
    "W = []\n",
    "for i in range(len(models1)):\n",
    "    w = ridge_regression(models1[i][0], models1[i][1], 10**(-2))\n",
    "    W.append(w)"
   ]
  },
  {
   "cell_type": "code",
   "execution_count": 354,
   "metadata": {
    "collapsed": true
   },
   "outputs": [],
   "source": [
    "# Find predictions\n",
    "Y_preds = []\n",
    "\n",
    "for i in range(len(models_test1)):\n",
    "    y = predict_labels(W[i], models_test1[i][1])\n",
    "    Y_preds.append(y)"
   ]
  },
  {
   "cell_type": "code",
   "execution_count": 355,
   "metadata": {},
   "outputs": [],
   "source": [
    "Y_pred = np.concatenate((Y_preds[0], Y_preds[1], Y_preds[2], Y_preds[3]), axis=0)\n",
    "ids_pred = np.concatenate((models_test1[0][2], models_test1[1][2], models_test1[2][2], models_test1[3][2]), axis=0)"
   ]
  },
  {
   "cell_type": "code",
   "execution_count": 356,
   "metadata": {},
   "outputs": [
    {
     "data": {
      "text/plain": [
       "array([ 350000.,  350001.,  350002., ...,  918235.,  918236.,  918237.])"
      ]
     },
     "execution_count": 356,
     "metadata": {},
     "output_type": "execute_result"
    }
   ],
   "source": [
    "pred = np.column_stack((ids_pred, Y_pred))\n",
    "# Sort by IDS\n",
    "pred = pred[np.argsort(pred[:, 0])]\n",
    "pred[:,0]"
   ]
  },
  {
   "cell_type": "code",
   "execution_count": 357,
   "metadata": {},
   "outputs": [],
   "source": [
    "create_csv_submission(pred[:,0], pred[:,1], \"predictions.csv\")"
   ]
  }
 ],
 "metadata": {
  "kernelspec": {
   "display_name": "Python 3",
   "language": "python",
   "name": "python3"
  },
  "language_info": {
   "codemirror_mode": {
    "name": "ipython",
    "version": 3
   },
   "file_extension": ".py",
   "mimetype": "text/x-python",
   "name": "python",
   "nbconvert_exporter": "python",
   "pygments_lexer": "ipython3",
   "version": "3.6.1"
  }
 },
 "nbformat": 4,
 "nbformat_minor": 2
}
