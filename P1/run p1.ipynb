{
 "cells": [
  {
   "cell_type": "code",
   "execution_count": 147,
   "metadata": {},
   "outputs": [
    {
     "name": "stdout",
     "output_type": "stream",
     "text": [
      "The autoreload extension is already loaded. To reload it, use:\n",
      "  %reload_ext autoreload\n"
     ]
    }
   ],
   "source": [
    "import pandas as pd\n",
    "import numpy as np\n",
    "import glob\n",
    "pd.options.mode.chained_assignment = None  # default='warn', Mutes warnings when copying a slice from a DataFrame.\n",
    "#Import all functions from the Labs and helpers\n",
    "#from helpers import *\n",
    "#from plots import *\n",
    "%load_ext autoreload\n",
    "%autoreload 2\n",
    "\n",
    "import seaborn as sns\n",
    "\n",
    "import matplotlib.pyplot as plt\n",
    "%matplotlib inline \n",
    "\n",
    "from proj1_helpers import *\n",
    "from ML_func import *"
   ]
  },
  {
   "cell_type": "markdown",
   "metadata": {},
   "source": [
    "Import data"
   ]
  },
  {
   "cell_type": "code",
   "execution_count": 148,
   "metadata": {},
   "outputs": [],
   "source": [
    "# Load the training data into feature matrix, class labels, and event ids:\n",
    "y, X, ids = load_csv_data('train.csv')\n",
    "ytest, Xtest, idstest = load_csv_data('test.csv')"
   ]
  },
  {
   "cell_type": "code",
   "execution_count": 149,
   "metadata": {
    "collapsed": true
   },
   "outputs": [],
   "source": [
    "#pd.DataFrame(X)\n",
    "#pd.DataFrame(Xtest)"
   ]
  },
  {
   "cell_type": "markdown",
   "metadata": {},
   "source": [
    "### Data Exploration"
   ]
  },
  {
   "cell_type": "code",
   "execution_count": 150,
   "metadata": {
    "collapsed": true
   },
   "outputs": [],
   "source": [
    "#trainSet = pd.read_csv(\"train.csv\")\n"
   ]
  },
  {
   "cell_type": "code",
   "execution_count": null,
   "metadata": {
    "collapsed": true
   },
   "outputs": [],
   "source": []
  },
  {
   "cell_type": "code",
   "execution_count": 151,
   "metadata": {},
   "outputs": [],
   "source": [
    "#T0 = trainSet.loc[trainSet['PRI_jet_num'] == 0]"
   ]
  },
  {
   "cell_type": "code",
   "execution_count": 152,
   "metadata": {
    "collapsed": true
   },
   "outputs": [],
   "source": [
    "#T1 = trainSet.loc[trainSet['PRI_jet_num'] == 1]\n"
   ]
  },
  {
   "cell_type": "code",
   "execution_count": 153,
   "metadata": {
    "collapsed": true
   },
   "outputs": [],
   "source": [
    "#T2 = trainSet.loc[trainSet['PRI_jet_num'] == 2]"
   ]
  },
  {
   "cell_type": "code",
   "execution_count": 154,
   "metadata": {
    "collapsed": true
   },
   "outputs": [],
   "source": [
    "#T3 = trainSet.loc[trainSet['PRI_jet_num'] == 3]\n"
   ]
  },
  {
   "cell_type": "markdown",
   "metadata": {},
   "source": [
    "### Clean the Data\n",
    "\n",
    "- yi and Xi will be the data where we just replace the missing value in the first column by the median\n",
    "- yi_r and Xi_r will be the data where we just remove the entire row if a value was missing in the first column"
   ]
  },
  {
   "cell_type": "code",
   "execution_count": 158,
   "metadata": {},
   "outputs": [
    {
     "data": {
      "text/plain": [
       "array([1, 2, 3, 4, 5])"
      ]
     },
     "execution_count": 158,
     "metadata": {},
     "output_type": "execute_result"
    }
   ],
   "source": [
    "test = np.array([1,2,3,4,5])\n",
    "test"
   ]
  },
  {
   "cell_type": "code",
   "execution_count": 159,
   "metadata": {},
   "outputs": [
    {
     "data": {
      "text/plain": [
       "array([1, 3])"
      ]
     },
     "execution_count": 159,
     "metadata": {},
     "output_type": "execute_result"
    }
   ],
   "source": [
    "test[[0,2]]"
   ]
  },
  {
   "cell_type": "code",
   "execution_count": 160,
   "metadata": {},
   "outputs": [],
   "source": [
    "# Split the data according to the label of the feature 22\n",
    "\n",
    "def findIndLabel(A, label, column):\n",
    "    N = A.shape[0]\n",
    "    ind = []\n",
    "    \n",
    "    for i in range(N):\n",
    "        if A[i,22] == label:\n",
    "            ind.append(i)\n",
    "            \n",
    "    return ind\n",
    "\n",
    "ind_lab0 = findIndLabel(X, 0, 22)\n",
    "ind_lab1 = findIndLabel(X, 1, 22)\n",
    "ind_lab2 = findIndLabel(X, 2, 22)\n",
    "ind_lab3 = findIndLabel(X, 3, 22)\n",
    "\n",
    "ind_lab0_test = findIndLabel(Xtest, 0, 22)\n",
    "ind_lab1_test = findIndLabel(Xtest, 1, 22)\n",
    "ind_lab2_test = findIndLabel(Xtest, 2, 22)\n",
    "ind_lab3_test = findIndLabel(Xtest, 3, 22)\n",
    "    \n",
    "\n",
    "# ------------ TRAINING ----------------------------------\n",
    "y0, y0_r, ids0 = y[np.where(X[:,22]==0)], y[np.where(X[:,22]==0)], ids[ind_lab0]\n",
    "y1, y1_r, ids1 = y[np.where(X[:,22]==1)], y[np.where(X[:,22]==1)], ids[ind_lab1]\n",
    "y2, y2_r, ids2 = y[np.where(X[:,22]==2)], y[np.where(X[:,22]==2)], ids[ind_lab2]\n",
    "y3, y3_r, ids3 = y[np.where(X[:,22]==3)], y[np.where(X[:,22]==3)], ids[ind_lab3]\n",
    "\n",
    "X0, X0_r = X[np.where(X[:,22]==0)], X[np.where(X[:,22]==0)]\n",
    "X1, X1_r = X[np.where(X[:,22]==1)], X[np.where(X[:,22]==1)]\n",
    "X2, X2_r = X[np.where(X[:,22]==2)], X[np.where(X[:,22]==2)]\n",
    "X3, X3_r = X[np.where(X[:,22]==3)], X[np.where(X[:,22]==3)]\n",
    "\n",
    "# ------------ TESTING ------------------------------------------------------------\n",
    "y0test, y0test_r, ids0test = ytest[np.where(Xtest[:,22]==0)], ytest[np.where(Xtest[:,22]==0)], idstest[ind_lab0_test]\n",
    "y1test, y1test_r, ids1test = ytest[np.where(Xtest[:,22]==1)], ytest[np.where(Xtest[:,22]==1)], idstest[ind_lab1_test]\n",
    "y2test, y2test_r, ids2test = ytest[np.where(Xtest[:,22]==2)], ytest[np.where(Xtest[:,22]==2)], idstest[ind_lab2_test]\n",
    "y3test, y3test_r, ids3test = ytest[np.where(Xtest[:,22]==3)], ytest[np.where(Xtest[:,22]==3)], idstest[ind_lab3_test]\n",
    "\n",
    "\n",
    "X0test, X0test_r = Xtest[np.where(Xtest[:,22]==0)], Xtest[np.where(Xtest[:,22]==0)]\n",
    "X1test, X1test_r = Xtest[np.where(Xtest[:,22]==1)], Xtest[np.where(Xtest[:,22]==1)]\n",
    "X2test, X2test_r = Xtest[np.where(Xtest[:,22]==2)], Xtest[np.where(Xtest[:,22]==2)]\n",
    "X3test, X3test_r = Xtest[np.where(Xtest[:,22]==3)], Xtest[np.where(Xtest[:,22]==3)]"
   ]
  },
  {
   "cell_type": "code",
   "execution_count": 161,
   "metadata": {
    "collapsed": true
   },
   "outputs": [],
   "source": [
    "# Replace the missing values -999 in the first column by the median\n",
    "\n",
    "# ------------ TRAINING ----------------------------------\n",
    "X0[np.where(X0[:,0]==-999),0] = np.median(X0[X0[:,0]!=-999,0])\n",
    "X1[np.where(X1[:,0]==-999),0] = np.median(X1[X1[:,0]!=-999,0])\n",
    "X2[np.where(X2[:,0]==-999),0] = np.median(X2[X2[:,0]!=-999,0])\n",
    "X3[np.where(X3[:,0]==-999),0] = np.median(X3[X3[:,0]!=-999,0])\n",
    "\n",
    "# ------------ TESTING ------------------------------------------------------------\n",
    "X0test[np.where(X0test[:,0]==-999),0] = np.median(X0test[X0test[:,0]!=-999,0])\n",
    "X1test[np.where(X1test[:,0]==-999),0] = np.median(X1test[X1test[:,0]!=-999,0])\n",
    "X2test[np.where(X2test[:,0]==-999),0] = np.median(X2test[X2test[:,0]!=-999,0])\n",
    "X3test[np.where(X3test[:,0]==-999),0] = np.median(X3test[X3test[:,0]!=-999,0])\n",
    "\n",
    "# Remove the rows where there are -999 in the first column\n",
    "def findInd(A):\n",
    "    n_f = A.shape[0]\n",
    "    ind = []\n",
    "    for i in range(n_f):\n",
    "        if A[i,0]==-999 :\n",
    "            ind.append(i)\n",
    "    \n",
    "    return ind\n",
    "\n",
    "# ------------ TRAINING ----------------------------------\n",
    "ind_0 = findInd(X0_r)\n",
    "ind_1 = findInd(X1_r)\n",
    "ind_2 = findInd(X2_r)\n",
    "ind_3 = findInd(X3_r)\n",
    "\n",
    "y0_r, X0_r, ids0_r = np.delete(y0_r, ind_0, 0), np.delete(X0_r, ind_0, 0), ids0[ind_0]\n",
    "y1_r, X1_r, ids1_r = np.delete(y1_r, ind_1, 0), np.delete(X1_r, ind_1, 0), ids1[ind_1]\n",
    "y2_r, X2_r, ids2_r = np.delete(y2_r, ind_2, 0), np.delete(X2_r, ind_2, 0), ids2[ind_2]\n",
    "y3_r, X3_r, ids3_r = np.delete(y3_r, ind_3, 0), np.delete(X3_r, ind_3, 0), ids3[ind_3]\n",
    "\n",
    "\n",
    "# ------------ TESTING ------------------------------------------------------------\n",
    "ind_0_test = findInd(X0test_r)\n",
    "ind_1_test = findInd(X1test_r)\n",
    "ind_2_test = findInd(X2test_r)\n",
    "ind_3_test = findInd(X3test_r)\n",
    "\n",
    "y0test_r, X0test_r, ids0test_r = np.delete(y0test_r, ind_0_test, 0), np.delete(X0test_r, ind_0_test, 0), ids0test[ind_0_test]\n",
    "y1test_r, X1test_r, ids1test_r = np.delete(y1test_r, ind_1_test, 0), np.delete(X1test_r, ind_1_test, 0), ids1test[ind_1_test]\n",
    "y2test_r, X2test_r, ids2test_r = np.delete(y2test_r, ind_2_test, 0), np.delete(X2test_r, ind_2_test, 0), ids2test[ind_2_test]\n",
    "y3test_r, X3test_r, ids3test_r = np.delete(y3test_r, ind_3_test, 0), np.delete(X3test_r, ind_3_test, 0), ids3test[ind_3_test]"
   ]
  },
  {
   "cell_type": "code",
   "execution_count": 162,
   "metadata": {
    "collapsed": true
   },
   "outputs": [],
   "source": [
    "# Given a matrix, check if there are -999 values\n",
    "def checkMissingValue(A):\n",
    "    n_f = A.shape[1]\n",
    "    flag = False\n",
    "    \n",
    "    for i in range(n_f):\n",
    "        #print(\"{}:{}\".format(i,len(np.where(A[:,i]==-999)[0])))\n",
    "        if len(np.where(A[:,i]==-999)[0]) is not 0:\n",
    "            flag = True\n",
    "            \n",
    "    return flag\n",
    "\n",
    "def deleteMissingValues(A):\n",
    "    n_f = A.shape[1]\n",
    "    ind = []\n",
    "    for i in range(n_f):\n",
    "        if len(np.where(A[:,i]==-999)[0]) is not 0:\n",
    "            ind.append(i)\n",
    "        \n",
    "    return np.delete(A,ind,1) "
   ]
  },
  {
   "cell_type": "code",
   "execution_count": 163,
   "metadata": {
    "collapsed": true
   },
   "outputs": [],
   "source": [
    "# Remove completely the columns with -999\n",
    "\n",
    "# ------------ TRAINING ----------------------------------\n",
    "X0, X0_r = deleteMissingValues(X0), deleteMissingValues(X0_r)\n",
    "X1, X1_r = deleteMissingValues(X1), deleteMissingValues(X1_r)\n",
    "X2, X2_r = deleteMissingValues(X2), deleteMissingValues(X2_r)\n",
    "X3, X3_r = deleteMissingValues(X3), deleteMissingValues(X3_r)\n",
    "\n",
    "# ------------ TESTING ----------------------------------\n",
    "X0test, X0test_r = deleteMissingValues(X0test), deleteMissingValues(X0test_r)\n",
    "X1test, X1test_r = deleteMissingValues(X1test), deleteMissingValues(X1test_r)\n",
    "X2test, X2test_r = deleteMissingValues(X2test), deleteMissingValues(X2test_r)\n",
    "X3test, X3test_r = deleteMissingValues(X3test), deleteMissingValues(X3test_r)"
   ]
  },
  {
   "cell_type": "code",
   "execution_count": 168,
   "metadata": {},
   "outputs": [],
   "source": [
    "# Sanity Check\n",
    "#pd.DataFrame(X0)\n",
    "#pd.DataFrame(X0_r)\n",
    "#pd.DataFrame(X1)\n",
    "#pd.DataFrame(X1_r)\n",
    "#pd.DataFrame(X2)\n",
    "#pd.DataFrame(X2_r)\n",
    "#pd.DataFrame(X3)\n",
    "#pd.DataFrame(X3_r)\n",
    "\n",
    "#pd.DataFrame(y0)\n",
    "#pd.DataFrame(ids0)\n",
    "#pd.DataFrame(y0_r)\n",
    "#pd.DataFrame(y1)\n",
    "#pd.DataFrame(y1_r)\n",
    "#pd.DataFrame(y2_r)\n",
    "#pd.DataFrame(y2_r)\n",
    "#pd.DataFrame(y3)\n",
    "#pd.DataFrame(y3_r)"
   ]
  },
  {
   "cell_type": "code",
   "execution_count": 165,
   "metadata": {
    "collapsed": true
   },
   "outputs": [],
   "source": [
    "# Group the data\n",
    "\n",
    "# ------------ TRAINING ----------------------------------\n",
    "train1 = [y0, X0, ids0]\n",
    "train2 = [y1, X1, ids1]\n",
    "train3 = [y2, X2, ids2]\n",
    "train4 = [y3, X3, ids3]\n",
    "train5 = [y0_r, X0_r, ids0_r]\n",
    "train6 = [y1_r, X1_r, ids1_r]\n",
    "train7 = [y2_r, X2_r, ids2_r]\n",
    "train8 = [y3_r, X3_r, ids3_r]\n",
    "\n",
    "\n",
    "# ------------ TESTING ----------------------------------\n",
    "train1_test = [y0test, X0test, ids0test]\n",
    "train2_test = [y1test, X1test, ids1test]\n",
    "train3_test = [y2test, X2test, ids2test]\n",
    "train4_test = [y3test, X3test, ids3test]\n",
    "train5_test = [y0test_r, X0test_r, ids0test_r]\n",
    "train6_test = [y1test_r, X1test_r, ids1test_r]\n",
    "train7_test = [y2test_r, X2test_r, ids2test_r]\n",
    "train8_test = [y3test_r, X3test_r, ids3test_r]"
   ]
  },
  {
   "cell_type": "code",
   "execution_count": null,
   "metadata": {
    "collapsed": true
   },
   "outputs": [],
   "source": []
  }
 ],
 "metadata": {
  "kernelspec": {
   "display_name": "Python 3",
   "language": "python",
   "name": "python3"
  },
  "language_info": {
   "codemirror_mode": {
    "name": "ipython",
    "version": 3
   },
   "file_extension": ".py",
   "mimetype": "text/x-python",
   "name": "python",
   "nbconvert_exporter": "python",
   "pygments_lexer": "ipython3",
   "version": "3.6.1"
  }
 },
 "nbformat": 4,
 "nbformat_minor": 2
}
